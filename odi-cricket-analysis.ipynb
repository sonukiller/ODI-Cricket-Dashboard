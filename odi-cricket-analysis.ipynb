{
 "cells": [
  {
   "cell_type": "code",
   "execution_count": 76,
   "metadata": {
    "_cell_guid": "b1076dfc-b9ad-4769-8c92-a6c4dae69d19",
    "_uuid": "8f2839f25d086af736a60e9eeb907d3b93b6e0e5",
    "papermill": {
     "duration": 2.559855,
     "end_time": "2021-06-25T07:55:56.720467",
     "exception": false,
     "start_time": "2021-06-25T07:55:54.160612",
     "status": "completed"
    },
    "tags": []
   },
   "outputs": [],
   "source": [
    "# For data handling\n",
    "import numpy as np\n",
    "import pandas as pd\n",
    "\n",
    "# For visvalization\n",
    "import matplotlib.pyplot as plt\n",
    "# import seaborn as sns\n",
    "\n",
    "import plotly.express as px\n",
    "import plotly.graph_objects as go\n",
    "from plotly.subplots import make_subplots\n",
    "\n",
    "# For creating widgets\n",
    "from ipywidgets import widgets, interact\n",
    "\n",
    "# For hiding warnings\n",
    "import warnings\n",
    "warnings.filterwarnings('ignore')"
   ]
  },
  {
   "cell_type": "code",
   "execution_count": 78,
   "metadata": {},
   "outputs": [],
   "source": [
    "df=pd.read_csv('ODI Cricket Dataset clean.csv')\n",
    "# df.head()"
   ]
  },
  {
   "cell_type": "code",
   "execution_count": 79,
   "metadata": {
    "execution": {
     "iopub.execute_input": "2021-06-25T07:56:25.612300Z",
     "iopub.status.busy": "2021-06-25T07:56:25.611652Z",
     "iopub.status.idle": "2021-06-25T07:56:25.613908Z",
     "shell.execute_reply": "2021-06-25T07:56:25.614373Z",
     "shell.execute_reply.started": "2021-06-25T07:29:41.361226Z"
    },
    "papermill": {
     "duration": 0.034951,
     "end_time": "2021-06-25T07:56:25.614569",
     "exception": false,
     "start_time": "2021-06-25T07:56:25.579618",
     "status": "completed"
    },
    "tags": []
   },
   "outputs": [],
   "source": [
    "Country='India'\n",
    "team2='New Zealand'\n",
    "Starting_Year=2004 # Maches after Starting_Year will be considered for analysis"
   ]
  },
  {
   "cell_type": "code",
   "execution_count": 80,
   "metadata": {
    "execution": {
     "iopub.execute_input": "2021-06-25T07:56:25.673206Z",
     "iopub.status.busy": "2021-06-25T07:56:25.672575Z",
     "iopub.status.idle": "2021-06-25T07:56:26.347014Z",
     "shell.execute_reply": "2021-06-25T07:56:26.347551Z",
     "shell.execute_reply.started": "2021-06-25T07:29:41.369545Z"
    },
    "papermill": {
     "duration": 0.705443,
     "end_time": "2021-06-25T07:56:26.347750",
     "exception": false,
     "start_time": "2021-06-25T07:56:25.642307",
     "status": "completed"
    },
    "tags": []
   },
   "outputs": [],
   "source": [
    "# Filtering the Country for analysis\n",
    "dfnew=df[(df['batting_team']==Country)|(df['bowling_team']==Country)& (df['year']>=Starting_Year)]"
   ]
  },
  {
   "cell_type": "code",
   "execution_count": 97,
   "metadata": {
    "papermill": {
     "duration": 0.027144,
     "end_time": "2021-06-25T07:56:26.402815",
     "exception": false,
     "start_time": "2021-06-25T07:56:26.375671",
     "status": "completed"
    },
    "tags": []
   },
   "outputs": [],
   "source": [
    "## Most run scoring batsman and most wicket taking bowler"
   ]
  },
  {
   "cell_type": "code",
   "execution_count": 105,
   "metadata": {
    "execution": {
     "iopub.execute_input": "2021-06-25T07:56:26.461450Z",
     "iopub.status.busy": "2021-06-25T07:56:26.460830Z",
     "iopub.status.idle": "2021-06-25T07:56:26.539744Z",
     "shell.execute_reply": "2021-06-25T07:56:26.540248Z",
     "shell.execute_reply.started": "2021-06-25T07:29:41.983388Z"
    },
    "jupyter": {
     "source_hidden": true
    },
    "papermill": {
     "duration": 0.110043,
     "end_time": "2021-06-25T07:56:26.540473",
     "exception": false,
     "start_time": "2021-06-25T07:56:26.430430",
     "status": "completed"
    },
    "tags": []
   },
   "outputs": [],
   "source": [
    "def most_runs(Country, Starting_Year):\n",
    "    \n",
    "    dfnew=df[((df['batting_team']==Country)|(df['bowling_team']==Country))& (df['year']>=Starting_Year)]\n",
    "    dfnew_1=dfnew[(dfnew['batting_team']==Country)]\n",
    "\n",
    "    df_batsman=dfnew_1.groupby(['striker']).agg({'runs_off_bat':sum, 'ball':'count'}).reset_index()\n",
    "\n",
    "    # Finding the strike rate\n",
    "    df_batsman['strike_rate']=round((df_batsman['runs_off_bat']*100/df_batsman['ball']),1)\n",
    "\n",
    "    df_batsman_temp=df_batsman[(df_batsman['strike_rate']>0)&(df_batsman['strike_rate']<df_batsman['strike_rate'].quantile(0.98))]\n",
    "\n",
    "    fig=px.treemap(df_batsman_temp, path=[px.Constant(f\"{Country}'s Batsman\"),'striker'],values='runs_off_bat',\n",
    "               color='strike_rate', color_continuous_scale='RdBu')\n",
    "    fig.update_layout(title=dict(text=f\"Runs scored by {Country}'s batsman ({Starting_Year} onwards)\",\n",
    "                                 xanchor='center', yanchor='top', x=0.5, font=dict(size=20)))\n",
    "    fig.show()"
   ]
  },
  {
   "cell_type": "code",
   "execution_count": 106,
   "metadata": {
    "execution": {
     "iopub.execute_input": "2021-06-25T07:56:26.600572Z",
     "iopub.status.busy": "2021-06-25T07:56:26.599811Z",
     "iopub.status.idle": "2021-06-25T07:56:27.826336Z",
     "shell.execute_reply": "2021-06-25T07:56:27.825231Z",
     "shell.execute_reply.started": "2021-06-25T07:29:42.064249Z"
    },
    "papermill": {
     "duration": 1.257791,
     "end_time": "2021-06-25T07:56:27.826555",
     "exception": false,
     "start_time": "2021-06-25T07:56:26.568764",
     "status": "completed"
    },
    "tags": []
   },
   "outputs": [
    {
     "data": {
      "application/vnd.plotly.v1+json": {
       "config": {
        "plotlyServerURL": "https://plot.ly"
       },
       "data": [
        {
         "branchvalues": "total",
         "customdata": [
          [
           49.4
          ],
          [
           89.5
          ],
          [
           42.4
          ],
          [
           55.3
          ],
          [
           76.4
          ],
          [
           93.3
          ],
          [
           77.3
          ],
          [
           72.7
          ],
          [
           37.5
          ],
          [
           81.8
          ],
          [
           87.1
          ],
          [
           84.6
          ],
          [
           83.6
          ],
          [
           100
          ],
          [
           114
          ],
          [
           72.3
          ],
          [
           29.799999999999997
          ],
          [
           95.1
          ],
          [
           100
          ],
          [
           38
          ],
          [
           71.6
          ],
          [
           123.4
          ],
          [
           50
          ],
          [
           51.7
          ],
          [
           87.6
          ],
          [
           98.9
          ],
          [
           61.5
          ],
          [
           65.7
          ],
          [
           94.5
          ],
          [
           89.9
          ],
          [
           72
          ],
          [
           66.7
          ],
          [
           47
          ],
          [
           83.6
          ],
          [
           78.5
          ],
          [
           89.3
          ],
          [
           11.1
          ],
          [
           83.9
          ],
          [
           80.6
          ],
          [
           66.7
          ],
          [
           32.8
          ],
          [
           100
          ],
          [
           100
          ],
          [
           85.1
          ],
          [
           92.3
          ],
          [
           77
          ],
          [
           50
          ],
          [
           57.300000000000004
          ],
          [
           86
          ],
          [
           89.1
          ],
          [
           109.3
          ],
          [
           80.4
          ],
          [
           47.1
          ],
          [
           92
          ],
          [
           33.3
          ],
          [
           35.7
          ],
          [
           50
          ],
          [
           93.9
          ],
          [
           90.2
          ],
          [
           97.2
          ],
          [
           86
          ],
          [
           91.3
          ],
          [
           68.1
          ],
          [
           58.10000000000001
          ],
          [
           92.2
          ],
          [
           107.4
          ],
          [
           88.1
          ],
          [
           53.3
          ],
          [
           69.5
          ],
          [
           117
          ],
          [
           57.6
          ],
          [
           79.5
          ],
          [
           59.9
          ],
          [
           88.56756371182155
          ]
         ],
         "domain": {
          "x": [
           0,
           1
          ],
          "y": [
           0,
           1
          ]
         },
         "hovertemplate": "labels=%{label}<br>runs_off_bat=%{value}<br>parent=%{parent}<br>id=%{id}<br>strike_rate=%{color}<extra></extra>",
         "ids": [
          "India's Batsman/A Mishra",
          "India's Batsman/A Mithun",
          "India's Batsman/A Nehra",
          "India's Batsman/AB Dinda",
          "India's Batsman/AM Rahane",
          "India's Batsman/AR Patel",
          "India's Batsman/AT Rayudu",
          "India's Batsman/B Kumar",
          "India's Batsman/CA Pujara",
          "India's Batsman/DL Chahar",
          "India's Batsman/DS Kulkarni",
          "India's Batsman/FY Fazal",
          "India's Batsman/G Gambhir",
          "India's Batsman/Gurkeerat Singh",
          "India's Batsman/HH Pandya",
          "India's Batsman/Harbhajan Singh",
          "India's Batsman/I Sharma",
          "India's Batsman/IK Pathan",
          "India's Batsman/J Yadav",
          "India's Batsman/JJ Bumrah",
          "India's Batsman/KD Karthik",
          "India's Batsman/KH Pandya",
          "India's Batsman/KK Ahmed",
          "India's Batsman/KK Nair",
          "India's Batsman/KL Rahul",
          "India's Batsman/KM Jadhav",
          "India's Batsman/Kuldeep Yadav",
          "India's Batsman/M Vijay",
          "India's Batsman/MA Agarwal",
          "India's Batsman/MK Pandey",
          "India's Batsman/MK Tiwary",
          "India's Batsman/MM Patel",
          "India's Batsman/MM Sharma",
          "India's Batsman/MS Dhoni",
          "India's Batsman/Mohammed Shami",
          "India's Batsman/NA Saini",
          "India's Batsman/NV Ojha",
          "India's Batsman/P Kumar",
          "India's Batsman/PA Patel",
          "India's Batsman/PP Chawla",
          "India's Batsman/PP Ojha",
          "India's Batsman/PP Shaw",
          "India's Batsman/Pankaj Singh",
          "India's Batsman/R Ashwin",
          "India's Batsman/R Dhawan",
          "India's Batsman/R Dravid",
          "India's Batsman/R Sharma",
          "India's Batsman/R Vinay Kumar",
          "India's Batsman/RA Jadeja",
          "India's Batsman/RG Sharma",
          "India's Batsman/RR Pant",
          "India's Batsman/RV Uthappa",
          "India's Batsman/S Badrinath",
          "India's Batsman/S Dhawan",
          "India's Batsman/S Kaul",
          "India's Batsman/S Sreesanth",
          "India's Batsman/S Tyagi",
          "India's Batsman/SK Raina",
          "India's Batsman/SR Tendulkar",
          "India's Batsman/SS Iyer",
          "India's Batsman/SS Tiwary",
          "India's Batsman/STR Binny",
          "India's Batsman/Shubman Gill",
          "India's Batsman/UT Yadav",
          "India's Batsman/V Kohli",
          "India's Batsman/V Sehwag",
          "India's Batsman/V Shankar",
          "India's Batsman/VR Aaron",
          "India's Batsman/WP Saha",
          "India's Batsman/YK Pathan",
          "India's Batsman/YS Chahal",
          "India's Batsman/Yuvraj Singh",
          "India's Batsman/Z Khan",
          "India's Batsman"
         ],
         "labels": [
          "A Mishra",
          "A Mithun",
          "A Nehra",
          "AB Dinda",
          "AM Rahane",
          "AR Patel",
          "AT Rayudu",
          "B Kumar",
          "CA Pujara",
          "DL Chahar",
          "DS Kulkarni",
          "FY Fazal",
          "G Gambhir",
          "Gurkeerat Singh",
          "HH Pandya",
          "Harbhajan Singh",
          "I Sharma",
          "IK Pathan",
          "J Yadav",
          "JJ Bumrah",
          "KD Karthik",
          "KH Pandya",
          "KK Ahmed",
          "KK Nair",
          "KL Rahul",
          "KM Jadhav",
          "Kuldeep Yadav",
          "M Vijay",
          "MA Agarwal",
          "MK Pandey",
          "MK Tiwary",
          "MM Patel",
          "MM Sharma",
          "MS Dhoni",
          "Mohammed Shami",
          "NA Saini",
          "NV Ojha",
          "P Kumar",
          "PA Patel",
          "PP Chawla",
          "PP Ojha",
          "PP Shaw",
          "Pankaj Singh",
          "R Ashwin",
          "R Dhawan",
          "R Dravid",
          "R Sharma",
          "R Vinay Kumar",
          "RA Jadeja",
          "RG Sharma",
          "RR Pant",
          "RV Uthappa",
          "S Badrinath",
          "S Dhawan",
          "S Kaul",
          "S Sreesanth",
          "S Tyagi",
          "SK Raina",
          "SR Tendulkar",
          "SS Iyer",
          "SS Tiwary",
          "STR Binny",
          "Shubman Gill",
          "UT Yadav",
          "V Kohli",
          "V Sehwag",
          "V Shankar",
          "VR Aaron",
          "WP Saha",
          "YK Pathan",
          "YS Chahal",
          "Yuvraj Singh",
          "Z Khan",
          "India's Batsman"
         ],
         "marker": {
          "coloraxis": "coloraxis",
          "colors": [
           49.4,
           89.5,
           42.4,
           55.3,
           76.4,
           93.3,
           77.3,
           72.7,
           37.5,
           81.8,
           87.1,
           84.6,
           83.6,
           100,
           114,
           72.3,
           29.799999999999997,
           95.1,
           100,
           38,
           71.6,
           123.4,
           50,
           51.7,
           87.6,
           98.9,
           61.5,
           65.7,
           94.5,
           89.9,
           72,
           66.7,
           47,
           83.6,
           78.5,
           89.3,
           11.1,
           83.9,
           80.6,
           66.7,
           32.8,
           100,
           100,
           85.1,
           92.3,
           77,
           50,
           57.300000000000004,
           86,
           89.1,
           109.3,
           80.4,
           47.1,
           92,
           33.3,
           35.7,
           50,
           93.9,
           90.2,
           97.2,
           86,
           91.3,
           68.1,
           58.10000000000001,
           92.2,
           107.4,
           88.1,
           53.3,
           69.5,
           117,
           57.6,
           79.5,
           59.9,
           88.56756371182155
          ]
         },
         "name": "",
         "parents": [
          "India's Batsman",
          "India's Batsman",
          "India's Batsman",
          "India's Batsman",
          "India's Batsman",
          "India's Batsman",
          "India's Batsman",
          "India's Batsman",
          "India's Batsman",
          "India's Batsman",
          "India's Batsman",
          "India's Batsman",
          "India's Batsman",
          "India's Batsman",
          "India's Batsman",
          "India's Batsman",
          "India's Batsman",
          "India's Batsman",
          "India's Batsman",
          "India's Batsman",
          "India's Batsman",
          "India's Batsman",
          "India's Batsman",
          "India's Batsman",
          "India's Batsman",
          "India's Batsman",
          "India's Batsman",
          "India's Batsman",
          "India's Batsman",
          "India's Batsman",
          "India's Batsman",
          "India's Batsman",
          "India's Batsman",
          "India's Batsman",
          "India's Batsman",
          "India's Batsman",
          "India's Batsman",
          "India's Batsman",
          "India's Batsman",
          "India's Batsman",
          "India's Batsman",
          "India's Batsman",
          "India's Batsman",
          "India's Batsman",
          "India's Batsman",
          "India's Batsman",
          "India's Batsman",
          "India's Batsman",
          "India's Batsman",
          "India's Batsman",
          "India's Batsman",
          "India's Batsman",
          "India's Batsman",
          "India's Batsman",
          "India's Batsman",
          "India's Batsman",
          "India's Batsman",
          "India's Batsman",
          "India's Batsman",
          "India's Batsman",
          "India's Batsman",
          "India's Batsman",
          "India's Batsman",
          "India's Batsman",
          "India's Batsman",
          "India's Batsman",
          "India's Batsman",
          "India's Batsman",
          "India's Batsman",
          "India's Batsman",
          "India's Batsman",
          "India's Batsman",
          "India's Batsman",
          ""
         ],
         "type": "treemap",
         "values": [
          43,
          51,
          39,
          21,
          2962,
          181,
          1694,
          529,
          51,
          18,
          27,
          55,
          2228,
          13,
          1267,
          188,
          36,
          176,
          1,
          19,
          1199,
          95,
          9,
          46,
          1509,
          1389,
          118,
          339,
          86,
          492,
          285,
          20,
          31,
          5640,
          161,
          92,
          1,
          104,
          604,
          10,
          19,
          84,
          3,
          675,
          12,
          124,
          1,
          86,
          2210,
          8510,
          529,
          148,
          40,
          5977,
          1,
          10,
          1,
          3718,
          1032,
          813,
          49,
          230,
          49,
          79,
          11685,
          1339,
          223,
          8,
          41,
          563,
          53,
          1452,
          91,
          61684
         ]
        }
       ],
       "layout": {
        "coloraxis": {
         "colorbar": {
          "title": {
           "text": "strike_rate"
          }
         },
         "colorscale": [
          [
           0,
           "rgb(103,0,31)"
          ],
          [
           0.1,
           "rgb(178,24,43)"
          ],
          [
           0.2,
           "rgb(214,96,77)"
          ],
          [
           0.3,
           "rgb(244,165,130)"
          ],
          [
           0.4,
           "rgb(253,219,199)"
          ],
          [
           0.5,
           "rgb(247,247,247)"
          ],
          [
           0.6,
           "rgb(209,229,240)"
          ],
          [
           0.7,
           "rgb(146,197,222)"
          ],
          [
           0.8,
           "rgb(67,147,195)"
          ],
          [
           0.9,
           "rgb(33,102,172)"
          ],
          [
           1,
           "rgb(5,48,97)"
          ]
         ]
        },
        "legend": {
         "tracegroupgap": 0
        },
        "margin": {
         "t": 60
        },
        "template": {
         "data": {
          "bar": [
           {
            "error_x": {
             "color": "#2a3f5f"
            },
            "error_y": {
             "color": "#2a3f5f"
            },
            "marker": {
             "line": {
              "color": "#E5ECF6",
              "width": 0.5
             }
            },
            "type": "bar"
           }
          ],
          "barpolar": [
           {
            "marker": {
             "line": {
              "color": "#E5ECF6",
              "width": 0.5
             }
            },
            "type": "barpolar"
           }
          ],
          "carpet": [
           {
            "aaxis": {
             "endlinecolor": "#2a3f5f",
             "gridcolor": "white",
             "linecolor": "white",
             "minorgridcolor": "white",
             "startlinecolor": "#2a3f5f"
            },
            "baxis": {
             "endlinecolor": "#2a3f5f",
             "gridcolor": "white",
             "linecolor": "white",
             "minorgridcolor": "white",
             "startlinecolor": "#2a3f5f"
            },
            "type": "carpet"
           }
          ],
          "choropleth": [
           {
            "colorbar": {
             "outlinewidth": 0,
             "ticks": ""
            },
            "type": "choropleth"
           }
          ],
          "contour": [
           {
            "colorbar": {
             "outlinewidth": 0,
             "ticks": ""
            },
            "colorscale": [
             [
              0,
              "#0d0887"
             ],
             [
              0.1111111111111111,
              "#46039f"
             ],
             [
              0.2222222222222222,
              "#7201a8"
             ],
             [
              0.3333333333333333,
              "#9c179e"
             ],
             [
              0.4444444444444444,
              "#bd3786"
             ],
             [
              0.5555555555555556,
              "#d8576b"
             ],
             [
              0.6666666666666666,
              "#ed7953"
             ],
             [
              0.7777777777777778,
              "#fb9f3a"
             ],
             [
              0.8888888888888888,
              "#fdca26"
             ],
             [
              1,
              "#f0f921"
             ]
            ],
            "type": "contour"
           }
          ],
          "contourcarpet": [
           {
            "colorbar": {
             "outlinewidth": 0,
             "ticks": ""
            },
            "type": "contourcarpet"
           }
          ],
          "heatmap": [
           {
            "colorbar": {
             "outlinewidth": 0,
             "ticks": ""
            },
            "colorscale": [
             [
              0,
              "#0d0887"
             ],
             [
              0.1111111111111111,
              "#46039f"
             ],
             [
              0.2222222222222222,
              "#7201a8"
             ],
             [
              0.3333333333333333,
              "#9c179e"
             ],
             [
              0.4444444444444444,
              "#bd3786"
             ],
             [
              0.5555555555555556,
              "#d8576b"
             ],
             [
              0.6666666666666666,
              "#ed7953"
             ],
             [
              0.7777777777777778,
              "#fb9f3a"
             ],
             [
              0.8888888888888888,
              "#fdca26"
             ],
             [
              1,
              "#f0f921"
             ]
            ],
            "type": "heatmap"
           }
          ],
          "heatmapgl": [
           {
            "colorbar": {
             "outlinewidth": 0,
             "ticks": ""
            },
            "colorscale": [
             [
              0,
              "#0d0887"
             ],
             [
              0.1111111111111111,
              "#46039f"
             ],
             [
              0.2222222222222222,
              "#7201a8"
             ],
             [
              0.3333333333333333,
              "#9c179e"
             ],
             [
              0.4444444444444444,
              "#bd3786"
             ],
             [
              0.5555555555555556,
              "#d8576b"
             ],
             [
              0.6666666666666666,
              "#ed7953"
             ],
             [
              0.7777777777777778,
              "#fb9f3a"
             ],
             [
              0.8888888888888888,
              "#fdca26"
             ],
             [
              1,
              "#f0f921"
             ]
            ],
            "type": "heatmapgl"
           }
          ],
          "histogram": [
           {
            "marker": {
             "colorbar": {
              "outlinewidth": 0,
              "ticks": ""
             }
            },
            "type": "histogram"
           }
          ],
          "histogram2d": [
           {
            "colorbar": {
             "outlinewidth": 0,
             "ticks": ""
            },
            "colorscale": [
             [
              0,
              "#0d0887"
             ],
             [
              0.1111111111111111,
              "#46039f"
             ],
             [
              0.2222222222222222,
              "#7201a8"
             ],
             [
              0.3333333333333333,
              "#9c179e"
             ],
             [
              0.4444444444444444,
              "#bd3786"
             ],
             [
              0.5555555555555556,
              "#d8576b"
             ],
             [
              0.6666666666666666,
              "#ed7953"
             ],
             [
              0.7777777777777778,
              "#fb9f3a"
             ],
             [
              0.8888888888888888,
              "#fdca26"
             ],
             [
              1,
              "#f0f921"
             ]
            ],
            "type": "histogram2d"
           }
          ],
          "histogram2dcontour": [
           {
            "colorbar": {
             "outlinewidth": 0,
             "ticks": ""
            },
            "colorscale": [
             [
              0,
              "#0d0887"
             ],
             [
              0.1111111111111111,
              "#46039f"
             ],
             [
              0.2222222222222222,
              "#7201a8"
             ],
             [
              0.3333333333333333,
              "#9c179e"
             ],
             [
              0.4444444444444444,
              "#bd3786"
             ],
             [
              0.5555555555555556,
              "#d8576b"
             ],
             [
              0.6666666666666666,
              "#ed7953"
             ],
             [
              0.7777777777777778,
              "#fb9f3a"
             ],
             [
              0.8888888888888888,
              "#fdca26"
             ],
             [
              1,
              "#f0f921"
             ]
            ],
            "type": "histogram2dcontour"
           }
          ],
          "mesh3d": [
           {
            "colorbar": {
             "outlinewidth": 0,
             "ticks": ""
            },
            "type": "mesh3d"
           }
          ],
          "parcoords": [
           {
            "line": {
             "colorbar": {
              "outlinewidth": 0,
              "ticks": ""
             }
            },
            "type": "parcoords"
           }
          ],
          "pie": [
           {
            "automargin": true,
            "type": "pie"
           }
          ],
          "scatter": [
           {
            "marker": {
             "colorbar": {
              "outlinewidth": 0,
              "ticks": ""
             }
            },
            "type": "scatter"
           }
          ],
          "scatter3d": [
           {
            "line": {
             "colorbar": {
              "outlinewidth": 0,
              "ticks": ""
             }
            },
            "marker": {
             "colorbar": {
              "outlinewidth": 0,
              "ticks": ""
             }
            },
            "type": "scatter3d"
           }
          ],
          "scattercarpet": [
           {
            "marker": {
             "colorbar": {
              "outlinewidth": 0,
              "ticks": ""
             }
            },
            "type": "scattercarpet"
           }
          ],
          "scattergeo": [
           {
            "marker": {
             "colorbar": {
              "outlinewidth": 0,
              "ticks": ""
             }
            },
            "type": "scattergeo"
           }
          ],
          "scattergl": [
           {
            "marker": {
             "colorbar": {
              "outlinewidth": 0,
              "ticks": ""
             }
            },
            "type": "scattergl"
           }
          ],
          "scattermapbox": [
           {
            "marker": {
             "colorbar": {
              "outlinewidth": 0,
              "ticks": ""
             }
            },
            "type": "scattermapbox"
           }
          ],
          "scatterpolar": [
           {
            "marker": {
             "colorbar": {
              "outlinewidth": 0,
              "ticks": ""
             }
            },
            "type": "scatterpolar"
           }
          ],
          "scatterpolargl": [
           {
            "marker": {
             "colorbar": {
              "outlinewidth": 0,
              "ticks": ""
             }
            },
            "type": "scatterpolargl"
           }
          ],
          "scatterternary": [
           {
            "marker": {
             "colorbar": {
              "outlinewidth": 0,
              "ticks": ""
             }
            },
            "type": "scatterternary"
           }
          ],
          "surface": [
           {
            "colorbar": {
             "outlinewidth": 0,
             "ticks": ""
            },
            "colorscale": [
             [
              0,
              "#0d0887"
             ],
             [
              0.1111111111111111,
              "#46039f"
             ],
             [
              0.2222222222222222,
              "#7201a8"
             ],
             [
              0.3333333333333333,
              "#9c179e"
             ],
             [
              0.4444444444444444,
              "#bd3786"
             ],
             [
              0.5555555555555556,
              "#d8576b"
             ],
             [
              0.6666666666666666,
              "#ed7953"
             ],
             [
              0.7777777777777778,
              "#fb9f3a"
             ],
             [
              0.8888888888888888,
              "#fdca26"
             ],
             [
              1,
              "#f0f921"
             ]
            ],
            "type": "surface"
           }
          ],
          "table": [
           {
            "cells": {
             "fill": {
              "color": "#EBF0F8"
             },
             "line": {
              "color": "white"
             }
            },
            "header": {
             "fill": {
              "color": "#C8D4E3"
             },
             "line": {
              "color": "white"
             }
            },
            "type": "table"
           }
          ]
         },
         "layout": {
          "annotationdefaults": {
           "arrowcolor": "#2a3f5f",
           "arrowhead": 0,
           "arrowwidth": 1
          },
          "autotypenumbers": "strict",
          "coloraxis": {
           "colorbar": {
            "outlinewidth": 0,
            "ticks": ""
           }
          },
          "colorscale": {
           "diverging": [
            [
             0,
             "#8e0152"
            ],
            [
             0.1,
             "#c51b7d"
            ],
            [
             0.2,
             "#de77ae"
            ],
            [
             0.3,
             "#f1b6da"
            ],
            [
             0.4,
             "#fde0ef"
            ],
            [
             0.5,
             "#f7f7f7"
            ],
            [
             0.6,
             "#e6f5d0"
            ],
            [
             0.7,
             "#b8e186"
            ],
            [
             0.8,
             "#7fbc41"
            ],
            [
             0.9,
             "#4d9221"
            ],
            [
             1,
             "#276419"
            ]
           ],
           "sequential": [
            [
             0,
             "#0d0887"
            ],
            [
             0.1111111111111111,
             "#46039f"
            ],
            [
             0.2222222222222222,
             "#7201a8"
            ],
            [
             0.3333333333333333,
             "#9c179e"
            ],
            [
             0.4444444444444444,
             "#bd3786"
            ],
            [
             0.5555555555555556,
             "#d8576b"
            ],
            [
             0.6666666666666666,
             "#ed7953"
            ],
            [
             0.7777777777777778,
             "#fb9f3a"
            ],
            [
             0.8888888888888888,
             "#fdca26"
            ],
            [
             1,
             "#f0f921"
            ]
           ],
           "sequentialminus": [
            [
             0,
             "#0d0887"
            ],
            [
             0.1111111111111111,
             "#46039f"
            ],
            [
             0.2222222222222222,
             "#7201a8"
            ],
            [
             0.3333333333333333,
             "#9c179e"
            ],
            [
             0.4444444444444444,
             "#bd3786"
            ],
            [
             0.5555555555555556,
             "#d8576b"
            ],
            [
             0.6666666666666666,
             "#ed7953"
            ],
            [
             0.7777777777777778,
             "#fb9f3a"
            ],
            [
             0.8888888888888888,
             "#fdca26"
            ],
            [
             1,
             "#f0f921"
            ]
           ]
          },
          "colorway": [
           "#636efa",
           "#EF553B",
           "#00cc96",
           "#ab63fa",
           "#FFA15A",
           "#19d3f3",
           "#FF6692",
           "#B6E880",
           "#FF97FF",
           "#FECB52"
          ],
          "font": {
           "color": "#2a3f5f"
          },
          "geo": {
           "bgcolor": "white",
           "lakecolor": "white",
           "landcolor": "#E5ECF6",
           "showlakes": true,
           "showland": true,
           "subunitcolor": "white"
          },
          "hoverlabel": {
           "align": "left"
          },
          "hovermode": "closest",
          "mapbox": {
           "style": "light"
          },
          "paper_bgcolor": "white",
          "plot_bgcolor": "#E5ECF6",
          "polar": {
           "angularaxis": {
            "gridcolor": "white",
            "linecolor": "white",
            "ticks": ""
           },
           "bgcolor": "#E5ECF6",
           "radialaxis": {
            "gridcolor": "white",
            "linecolor": "white",
            "ticks": ""
           }
          },
          "scene": {
           "xaxis": {
            "backgroundcolor": "#E5ECF6",
            "gridcolor": "white",
            "gridwidth": 2,
            "linecolor": "white",
            "showbackground": true,
            "ticks": "",
            "zerolinecolor": "white"
           },
           "yaxis": {
            "backgroundcolor": "#E5ECF6",
            "gridcolor": "white",
            "gridwidth": 2,
            "linecolor": "white",
            "showbackground": true,
            "ticks": "",
            "zerolinecolor": "white"
           },
           "zaxis": {
            "backgroundcolor": "#E5ECF6",
            "gridcolor": "white",
            "gridwidth": 2,
            "linecolor": "white",
            "showbackground": true,
            "ticks": "",
            "zerolinecolor": "white"
           }
          },
          "shapedefaults": {
           "line": {
            "color": "#2a3f5f"
           }
          },
          "ternary": {
           "aaxis": {
            "gridcolor": "white",
            "linecolor": "white",
            "ticks": ""
           },
           "baxis": {
            "gridcolor": "white",
            "linecolor": "white",
            "ticks": ""
           },
           "bgcolor": "#E5ECF6",
           "caxis": {
            "gridcolor": "white",
            "linecolor": "white",
            "ticks": ""
           }
          },
          "title": {
           "x": 0.05
          },
          "xaxis": {
           "automargin": true,
           "gridcolor": "white",
           "linecolor": "white",
           "ticks": "",
           "title": {
            "standoff": 15
           },
           "zerolinecolor": "white",
           "zerolinewidth": 2
          },
          "yaxis": {
           "automargin": true,
           "gridcolor": "white",
           "linecolor": "white",
           "ticks": "",
           "title": {
            "standoff": 15
           },
           "zerolinecolor": "white",
           "zerolinewidth": 2
          }
         }
        },
        "title": {
         "font": {
          "size": 20
         },
         "text": "Runs scored by India's batsman (2010 onwards)",
         "x": 0.5,
         "xanchor": "center",
         "yanchor": "top"
        }
       }
      },
      "text/html": [
       "<div>                            <div id=\"4e771b02-9a6e-4b9c-a2e9-67fed3a99b00\" class=\"plotly-graph-div\" style=\"height:525px; width:100%;\"></div>            <script type=\"text/javascript\">                require([\"plotly\"], function(Plotly) {                    window.PLOTLYENV=window.PLOTLYENV || {};                                    if (document.getElementById(\"4e771b02-9a6e-4b9c-a2e9-67fed3a99b00\")) {                    Plotly.newPlot(                        \"4e771b02-9a6e-4b9c-a2e9-67fed3a99b00\",                        [{\"branchvalues\": \"total\", \"customdata\": [[49.4], [89.5], [42.4], [55.3], [76.4], [93.3], [77.3], [72.7], [37.5], [81.8], [87.1], [84.6], [83.6], [100.0], [114.0], [72.3], [29.799999999999997], [95.1], [100.0], [38.0], [71.6], [123.4], [50.0], [51.7], [87.6], [98.9], [61.5], [65.7], [94.5], [89.9], [72.0], [66.7], [47.0], [83.6], [78.5], [89.3], [11.1], [83.9], [80.6], [66.7], [32.8], [100.0], [100.0], [85.1], [92.3], [77.0], [50.0], [57.300000000000004], [86.0], [89.1], [109.3], [80.4], [47.1], [92.0], [33.3], [35.7], [50.0], [93.9], [90.2], [97.2], [86.0], [91.3], [68.1], [58.10000000000001], [92.2], [107.4], [88.1], [53.3], [69.5], [117.0], [57.6], [79.5], [59.9], [88.56756371182155]], \"domain\": {\"x\": [0.0, 1.0], \"y\": [0.0, 1.0]}, \"hovertemplate\": \"labels=%{label}<br>runs_off_bat=%{value}<br>parent=%{parent}<br>id=%{id}<br>strike_rate=%{color}<extra></extra>\", \"ids\": [\"India's Batsman/A Mishra\", \"India's Batsman/A Mithun\", \"India's Batsman/A Nehra\", \"India's Batsman/AB Dinda\", \"India's Batsman/AM Rahane\", \"India's Batsman/AR Patel\", \"India's Batsman/AT Rayudu\", \"India's Batsman/B Kumar\", \"India's Batsman/CA Pujara\", \"India's Batsman/DL Chahar\", \"India's Batsman/DS Kulkarni\", \"India's Batsman/FY Fazal\", \"India's Batsman/G Gambhir\", \"India's Batsman/Gurkeerat Singh\", \"India's Batsman/HH Pandya\", \"India's Batsman/Harbhajan Singh\", \"India's Batsman/I Sharma\", \"India's Batsman/IK Pathan\", \"India's Batsman/J Yadav\", \"India's Batsman/JJ Bumrah\", \"India's Batsman/KD Karthik\", \"India's Batsman/KH Pandya\", \"India's Batsman/KK Ahmed\", \"India's Batsman/KK Nair\", \"India's Batsman/KL Rahul\", \"India's Batsman/KM Jadhav\", \"India's Batsman/Kuldeep Yadav\", \"India's Batsman/M Vijay\", \"India's Batsman/MA Agarwal\", \"India's Batsman/MK Pandey\", \"India's Batsman/MK Tiwary\", \"India's Batsman/MM Patel\", \"India's Batsman/MM Sharma\", \"India's Batsman/MS Dhoni\", \"India's Batsman/Mohammed Shami\", \"India's Batsman/NA Saini\", \"India's Batsman/NV Ojha\", \"India's Batsman/P Kumar\", \"India's Batsman/PA Patel\", \"India's Batsman/PP Chawla\", \"India's Batsman/PP Ojha\", \"India's Batsman/PP Shaw\", \"India's Batsman/Pankaj Singh\", \"India's Batsman/R Ashwin\", \"India's Batsman/R Dhawan\", \"India's Batsman/R Dravid\", \"India's Batsman/R Sharma\", \"India's Batsman/R Vinay Kumar\", \"India's Batsman/RA Jadeja\", \"India's Batsman/RG Sharma\", \"India's Batsman/RR Pant\", \"India's Batsman/RV Uthappa\", \"India's Batsman/S Badrinath\", \"India's Batsman/S Dhawan\", \"India's Batsman/S Kaul\", \"India's Batsman/S Sreesanth\", \"India's Batsman/S Tyagi\", \"India's Batsman/SK Raina\", \"India's Batsman/SR Tendulkar\", \"India's Batsman/SS Iyer\", \"India's Batsman/SS Tiwary\", \"India's Batsman/STR Binny\", \"India's Batsman/Shubman Gill\", \"India's Batsman/UT Yadav\", \"India's Batsman/V Kohli\", \"India's Batsman/V Sehwag\", \"India's Batsman/V Shankar\", \"India's Batsman/VR Aaron\", \"India's Batsman/WP Saha\", \"India's Batsman/YK Pathan\", \"India's Batsman/YS Chahal\", \"India's Batsman/Yuvraj Singh\", \"India's Batsman/Z Khan\", \"India's Batsman\"], \"labels\": [\"A Mishra\", \"A Mithun\", \"A Nehra\", \"AB Dinda\", \"AM Rahane\", \"AR Patel\", \"AT Rayudu\", \"B Kumar\", \"CA Pujara\", \"DL Chahar\", \"DS Kulkarni\", \"FY Fazal\", \"G Gambhir\", \"Gurkeerat Singh\", \"HH Pandya\", \"Harbhajan Singh\", \"I Sharma\", \"IK Pathan\", \"J Yadav\", \"JJ Bumrah\", \"KD Karthik\", \"KH Pandya\", \"KK Ahmed\", \"KK Nair\", \"KL Rahul\", \"KM Jadhav\", \"Kuldeep Yadav\", \"M Vijay\", \"MA Agarwal\", \"MK Pandey\", \"MK Tiwary\", \"MM Patel\", \"MM Sharma\", \"MS Dhoni\", \"Mohammed Shami\", \"NA Saini\", \"NV Ojha\", \"P Kumar\", \"PA Patel\", \"PP Chawla\", \"PP Ojha\", \"PP Shaw\", \"Pankaj Singh\", \"R Ashwin\", \"R Dhawan\", \"R Dravid\", \"R Sharma\", \"R Vinay Kumar\", \"RA Jadeja\", \"RG Sharma\", \"RR Pant\", \"RV Uthappa\", \"S Badrinath\", \"S Dhawan\", \"S Kaul\", \"S Sreesanth\", \"S Tyagi\", \"SK Raina\", \"SR Tendulkar\", \"SS Iyer\", \"SS Tiwary\", \"STR Binny\", \"Shubman Gill\", \"UT Yadav\", \"V Kohli\", \"V Sehwag\", \"V Shankar\", \"VR Aaron\", \"WP Saha\", \"YK Pathan\", \"YS Chahal\", \"Yuvraj Singh\", \"Z Khan\", \"India's Batsman\"], \"marker\": {\"coloraxis\": \"coloraxis\", \"colors\": [49.4, 89.5, 42.4, 55.3, 76.4, 93.3, 77.3, 72.7, 37.5, 81.8, 87.1, 84.6, 83.6, 100.0, 114.0, 72.3, 29.799999999999997, 95.1, 100.0, 38.0, 71.6, 123.4, 50.0, 51.7, 87.6, 98.9, 61.5, 65.7, 94.5, 89.9, 72.0, 66.7, 47.0, 83.6, 78.5, 89.3, 11.1, 83.9, 80.6, 66.7, 32.8, 100.0, 100.0, 85.1, 92.3, 77.0, 50.0, 57.300000000000004, 86.0, 89.1, 109.3, 80.4, 47.1, 92.0, 33.3, 35.7, 50.0, 93.9, 90.2, 97.2, 86.0, 91.3, 68.1, 58.10000000000001, 92.2, 107.4, 88.1, 53.3, 69.5, 117.0, 57.6, 79.5, 59.9, 88.56756371182155]}, \"name\": \"\", \"parents\": [\"India's Batsman\", \"India's Batsman\", \"India's Batsman\", \"India's Batsman\", \"India's Batsman\", \"India's Batsman\", \"India's Batsman\", \"India's Batsman\", \"India's Batsman\", \"India's Batsman\", \"India's Batsman\", \"India's Batsman\", \"India's Batsman\", \"India's Batsman\", \"India's Batsman\", \"India's Batsman\", \"India's Batsman\", \"India's Batsman\", \"India's Batsman\", \"India's Batsman\", \"India's Batsman\", \"India's Batsman\", \"India's Batsman\", \"India's Batsman\", \"India's Batsman\", \"India's Batsman\", \"India's Batsman\", \"India's Batsman\", \"India's Batsman\", \"India's Batsman\", \"India's Batsman\", \"India's Batsman\", \"India's Batsman\", \"India's Batsman\", \"India's Batsman\", \"India's Batsman\", \"India's Batsman\", \"India's Batsman\", \"India's Batsman\", \"India's Batsman\", \"India's Batsman\", \"India's Batsman\", \"India's Batsman\", \"India's Batsman\", \"India's Batsman\", \"India's Batsman\", \"India's Batsman\", \"India's Batsman\", \"India's Batsman\", \"India's Batsman\", \"India's Batsman\", \"India's Batsman\", \"India's Batsman\", \"India's Batsman\", \"India's Batsman\", \"India's Batsman\", \"India's Batsman\", \"India's Batsman\", \"India's Batsman\", \"India's Batsman\", \"India's Batsman\", \"India's Batsman\", \"India's Batsman\", \"India's Batsman\", \"India's Batsman\", \"India's Batsman\", \"India's Batsman\", \"India's Batsman\", \"India's Batsman\", \"India's Batsman\", \"India's Batsman\", \"India's Batsman\", \"India's Batsman\", \"\"], \"type\": \"treemap\", \"values\": [43, 51, 39, 21, 2962, 181, 1694, 529, 51, 18, 27, 55, 2228, 13, 1267, 188, 36, 176, 1, 19, 1199, 95, 9, 46, 1509, 1389, 118, 339, 86, 492, 285, 20, 31, 5640, 161, 92, 1, 104, 604, 10, 19, 84, 3, 675, 12, 124, 1, 86, 2210, 8510, 529, 148, 40, 5977, 1, 10, 1, 3718, 1032, 813, 49, 230, 49, 79, 11685, 1339, 223, 8, 41, 563, 53, 1452, 91, 61684]}],                        {\"coloraxis\": {\"colorbar\": {\"title\": {\"text\": \"strike_rate\"}}, \"colorscale\": [[0.0, \"rgb(103,0,31)\"], [0.1, \"rgb(178,24,43)\"], [0.2, \"rgb(214,96,77)\"], [0.3, \"rgb(244,165,130)\"], [0.4, \"rgb(253,219,199)\"], [0.5, \"rgb(247,247,247)\"], [0.6, \"rgb(209,229,240)\"], [0.7, \"rgb(146,197,222)\"], [0.8, \"rgb(67,147,195)\"], [0.9, \"rgb(33,102,172)\"], [1.0, \"rgb(5,48,97)\"]]}, \"legend\": {\"tracegroupgap\": 0}, \"margin\": {\"t\": 60}, \"template\": {\"data\": {\"bar\": [{\"error_x\": {\"color\": \"#2a3f5f\"}, \"error_y\": {\"color\": \"#2a3f5f\"}, \"marker\": {\"line\": {\"color\": \"#E5ECF6\", \"width\": 0.5}}, \"type\": \"bar\"}], \"barpolar\": [{\"marker\": {\"line\": {\"color\": \"#E5ECF6\", \"width\": 0.5}}, \"type\": \"barpolar\"}], \"carpet\": [{\"aaxis\": {\"endlinecolor\": \"#2a3f5f\", \"gridcolor\": \"white\", \"linecolor\": \"white\", \"minorgridcolor\": \"white\", \"startlinecolor\": \"#2a3f5f\"}, \"baxis\": {\"endlinecolor\": \"#2a3f5f\", \"gridcolor\": \"white\", \"linecolor\": \"white\", \"minorgridcolor\": \"white\", \"startlinecolor\": \"#2a3f5f\"}, \"type\": \"carpet\"}], \"choropleth\": [{\"colorbar\": {\"outlinewidth\": 0, \"ticks\": \"\"}, \"type\": \"choropleth\"}], \"contour\": [{\"colorbar\": {\"outlinewidth\": 0, \"ticks\": \"\"}, \"colorscale\": [[0.0, \"#0d0887\"], [0.1111111111111111, \"#46039f\"], [0.2222222222222222, \"#7201a8\"], [0.3333333333333333, \"#9c179e\"], [0.4444444444444444, \"#bd3786\"], [0.5555555555555556, \"#d8576b\"], [0.6666666666666666, \"#ed7953\"], [0.7777777777777778, \"#fb9f3a\"], [0.8888888888888888, \"#fdca26\"], [1.0, \"#f0f921\"]], \"type\": \"contour\"}], \"contourcarpet\": [{\"colorbar\": {\"outlinewidth\": 0, \"ticks\": \"\"}, \"type\": \"contourcarpet\"}], \"heatmap\": [{\"colorbar\": {\"outlinewidth\": 0, \"ticks\": \"\"}, \"colorscale\": [[0.0, \"#0d0887\"], [0.1111111111111111, \"#46039f\"], [0.2222222222222222, \"#7201a8\"], [0.3333333333333333, \"#9c179e\"], [0.4444444444444444, \"#bd3786\"], [0.5555555555555556, \"#d8576b\"], [0.6666666666666666, \"#ed7953\"], [0.7777777777777778, \"#fb9f3a\"], [0.8888888888888888, \"#fdca26\"], [1.0, \"#f0f921\"]], \"type\": \"heatmap\"}], \"heatmapgl\": [{\"colorbar\": {\"outlinewidth\": 0, \"ticks\": \"\"}, \"colorscale\": [[0.0, \"#0d0887\"], [0.1111111111111111, \"#46039f\"], [0.2222222222222222, \"#7201a8\"], [0.3333333333333333, \"#9c179e\"], [0.4444444444444444, \"#bd3786\"], [0.5555555555555556, \"#d8576b\"], [0.6666666666666666, \"#ed7953\"], [0.7777777777777778, \"#fb9f3a\"], [0.8888888888888888, \"#fdca26\"], [1.0, \"#f0f921\"]], \"type\": \"heatmapgl\"}], \"histogram\": [{\"marker\": {\"colorbar\": {\"outlinewidth\": 0, \"ticks\": \"\"}}, \"type\": \"histogram\"}], \"histogram2d\": [{\"colorbar\": {\"outlinewidth\": 0, \"ticks\": \"\"}, \"colorscale\": [[0.0, \"#0d0887\"], [0.1111111111111111, \"#46039f\"], [0.2222222222222222, \"#7201a8\"], [0.3333333333333333, \"#9c179e\"], [0.4444444444444444, \"#bd3786\"], [0.5555555555555556, \"#d8576b\"], [0.6666666666666666, \"#ed7953\"], [0.7777777777777778, \"#fb9f3a\"], [0.8888888888888888, \"#fdca26\"], [1.0, \"#f0f921\"]], \"type\": \"histogram2d\"}], \"histogram2dcontour\": [{\"colorbar\": {\"outlinewidth\": 0, \"ticks\": \"\"}, \"colorscale\": [[0.0, \"#0d0887\"], [0.1111111111111111, \"#46039f\"], [0.2222222222222222, \"#7201a8\"], [0.3333333333333333, \"#9c179e\"], [0.4444444444444444, \"#bd3786\"], [0.5555555555555556, \"#d8576b\"], [0.6666666666666666, \"#ed7953\"], [0.7777777777777778, \"#fb9f3a\"], [0.8888888888888888, \"#fdca26\"], [1.0, \"#f0f921\"]], \"type\": \"histogram2dcontour\"}], \"mesh3d\": [{\"colorbar\": {\"outlinewidth\": 0, \"ticks\": \"\"}, \"type\": \"mesh3d\"}], \"parcoords\": [{\"line\": {\"colorbar\": {\"outlinewidth\": 0, \"ticks\": \"\"}}, \"type\": \"parcoords\"}], \"pie\": [{\"automargin\": true, \"type\": \"pie\"}], \"scatter\": [{\"marker\": {\"colorbar\": {\"outlinewidth\": 0, \"ticks\": \"\"}}, \"type\": \"scatter\"}], \"scatter3d\": [{\"line\": {\"colorbar\": {\"outlinewidth\": 0, \"ticks\": \"\"}}, \"marker\": {\"colorbar\": {\"outlinewidth\": 0, \"ticks\": \"\"}}, \"type\": \"scatter3d\"}], \"scattercarpet\": [{\"marker\": {\"colorbar\": {\"outlinewidth\": 0, \"ticks\": \"\"}}, \"type\": \"scattercarpet\"}], \"scattergeo\": [{\"marker\": {\"colorbar\": {\"outlinewidth\": 0, \"ticks\": \"\"}}, \"type\": \"scattergeo\"}], \"scattergl\": [{\"marker\": {\"colorbar\": {\"outlinewidth\": 0, \"ticks\": \"\"}}, \"type\": \"scattergl\"}], \"scattermapbox\": [{\"marker\": {\"colorbar\": {\"outlinewidth\": 0, \"ticks\": \"\"}}, \"type\": \"scattermapbox\"}], \"scatterpolar\": [{\"marker\": {\"colorbar\": {\"outlinewidth\": 0, \"ticks\": \"\"}}, \"type\": \"scatterpolar\"}], \"scatterpolargl\": [{\"marker\": {\"colorbar\": {\"outlinewidth\": 0, \"ticks\": \"\"}}, \"type\": \"scatterpolargl\"}], \"scatterternary\": [{\"marker\": {\"colorbar\": {\"outlinewidth\": 0, \"ticks\": \"\"}}, \"type\": \"scatterternary\"}], \"surface\": [{\"colorbar\": {\"outlinewidth\": 0, \"ticks\": \"\"}, \"colorscale\": [[0.0, \"#0d0887\"], [0.1111111111111111, \"#46039f\"], [0.2222222222222222, \"#7201a8\"], [0.3333333333333333, \"#9c179e\"], [0.4444444444444444, \"#bd3786\"], [0.5555555555555556, \"#d8576b\"], [0.6666666666666666, \"#ed7953\"], [0.7777777777777778, \"#fb9f3a\"], [0.8888888888888888, \"#fdca26\"], [1.0, \"#f0f921\"]], \"type\": \"surface\"}], \"table\": [{\"cells\": {\"fill\": {\"color\": \"#EBF0F8\"}, \"line\": {\"color\": \"white\"}}, \"header\": {\"fill\": {\"color\": \"#C8D4E3\"}, \"line\": {\"color\": \"white\"}}, \"type\": \"table\"}]}, \"layout\": {\"annotationdefaults\": {\"arrowcolor\": \"#2a3f5f\", \"arrowhead\": 0, \"arrowwidth\": 1}, \"autotypenumbers\": \"strict\", \"coloraxis\": {\"colorbar\": {\"outlinewidth\": 0, \"ticks\": \"\"}}, \"colorscale\": {\"diverging\": [[0, \"#8e0152\"], [0.1, \"#c51b7d\"], [0.2, \"#de77ae\"], [0.3, \"#f1b6da\"], [0.4, \"#fde0ef\"], [0.5, \"#f7f7f7\"], [0.6, \"#e6f5d0\"], [0.7, \"#b8e186\"], [0.8, \"#7fbc41\"], [0.9, \"#4d9221\"], [1, \"#276419\"]], \"sequential\": [[0.0, \"#0d0887\"], [0.1111111111111111, \"#46039f\"], [0.2222222222222222, \"#7201a8\"], [0.3333333333333333, \"#9c179e\"], [0.4444444444444444, \"#bd3786\"], [0.5555555555555556, \"#d8576b\"], [0.6666666666666666, \"#ed7953\"], [0.7777777777777778, \"#fb9f3a\"], [0.8888888888888888, \"#fdca26\"], [1.0, \"#f0f921\"]], \"sequentialminus\": [[0.0, \"#0d0887\"], [0.1111111111111111, \"#46039f\"], [0.2222222222222222, \"#7201a8\"], [0.3333333333333333, \"#9c179e\"], [0.4444444444444444, \"#bd3786\"], [0.5555555555555556, \"#d8576b\"], [0.6666666666666666, \"#ed7953\"], [0.7777777777777778, \"#fb9f3a\"], [0.8888888888888888, \"#fdca26\"], [1.0, \"#f0f921\"]]}, \"colorway\": [\"#636efa\", \"#EF553B\", \"#00cc96\", \"#ab63fa\", \"#FFA15A\", \"#19d3f3\", \"#FF6692\", \"#B6E880\", \"#FF97FF\", \"#FECB52\"], \"font\": {\"color\": \"#2a3f5f\"}, \"geo\": {\"bgcolor\": \"white\", \"lakecolor\": \"white\", \"landcolor\": \"#E5ECF6\", \"showlakes\": true, \"showland\": true, \"subunitcolor\": \"white\"}, \"hoverlabel\": {\"align\": \"left\"}, \"hovermode\": \"closest\", \"mapbox\": {\"style\": \"light\"}, \"paper_bgcolor\": \"white\", \"plot_bgcolor\": \"#E5ECF6\", \"polar\": {\"angularaxis\": {\"gridcolor\": \"white\", \"linecolor\": \"white\", \"ticks\": \"\"}, \"bgcolor\": \"#E5ECF6\", \"radialaxis\": {\"gridcolor\": \"white\", \"linecolor\": \"white\", \"ticks\": \"\"}}, \"scene\": {\"xaxis\": {\"backgroundcolor\": \"#E5ECF6\", \"gridcolor\": \"white\", \"gridwidth\": 2, \"linecolor\": \"white\", \"showbackground\": true, \"ticks\": \"\", \"zerolinecolor\": \"white\"}, \"yaxis\": {\"backgroundcolor\": \"#E5ECF6\", \"gridcolor\": \"white\", \"gridwidth\": 2, \"linecolor\": \"white\", \"showbackground\": true, \"ticks\": \"\", \"zerolinecolor\": \"white\"}, \"zaxis\": {\"backgroundcolor\": \"#E5ECF6\", \"gridcolor\": \"white\", \"gridwidth\": 2, \"linecolor\": \"white\", \"showbackground\": true, \"ticks\": \"\", \"zerolinecolor\": \"white\"}}, \"shapedefaults\": {\"line\": {\"color\": \"#2a3f5f\"}}, \"ternary\": {\"aaxis\": {\"gridcolor\": \"white\", \"linecolor\": \"white\", \"ticks\": \"\"}, \"baxis\": {\"gridcolor\": \"white\", \"linecolor\": \"white\", \"ticks\": \"\"}, \"bgcolor\": \"#E5ECF6\", \"caxis\": {\"gridcolor\": \"white\", \"linecolor\": \"white\", \"ticks\": \"\"}}, \"title\": {\"x\": 0.05}, \"xaxis\": {\"automargin\": true, \"gridcolor\": \"white\", \"linecolor\": \"white\", \"ticks\": \"\", \"title\": {\"standoff\": 15}, \"zerolinecolor\": \"white\", \"zerolinewidth\": 2}, \"yaxis\": {\"automargin\": true, \"gridcolor\": \"white\", \"linecolor\": \"white\", \"ticks\": \"\", \"title\": {\"standoff\": 15}, \"zerolinecolor\": \"white\", \"zerolinewidth\": 2}}}, \"title\": {\"font\": {\"size\": 20}, \"text\": \"Runs scored by India's batsman (2010 onwards)\", \"x\": 0.5, \"xanchor\": \"center\", \"yanchor\": \"top\"}},                        {\"responsive\": true}                    ).then(function(){\n",
       "                            \n",
       "var gd = document.getElementById('4e771b02-9a6e-4b9c-a2e9-67fed3a99b00');\n",
       "var x = new MutationObserver(function (mutations, observer) {{\n",
       "        var display = window.getComputedStyle(gd).display;\n",
       "        if (!display || display === 'none') {{\n",
       "            console.log([gd, 'removed!']);\n",
       "            Plotly.purge(gd);\n",
       "            observer.disconnect();\n",
       "        }}\n",
       "}});\n",
       "\n",
       "// Listen for the removal of the full notebook cells\n",
       "var notebookContainer = gd.closest('#notebook-container');\n",
       "if (notebookContainer) {{\n",
       "    x.observe(notebookContainer, {childList: true});\n",
       "}}\n",
       "\n",
       "// Listen for the clearing of the current output cell\n",
       "var outputEl = gd.closest('.output');\n",
       "if (outputEl) {{\n",
       "    x.observe(outputEl, {childList: true});\n",
       "}}\n",
       "\n",
       "                        })                };                });            </script>        </div>"
      ]
     },
     "metadata": {},
     "output_type": "display_data"
    }
   ],
   "source": [
    "# most_runs('India', Starting_Year=2010)"
   ]
  },
  {
   "cell_type": "code",
   "execution_count": 83,
   "metadata": {
    "execution": {
     "iopub.execute_input": "2021-06-25T07:56:27.935365Z",
     "iopub.status.busy": "2021-06-25T07:56:27.933941Z",
     "iopub.status.idle": "2021-06-25T07:56:28.006657Z",
     "shell.execute_reply": "2021-06-25T07:56:28.005763Z",
     "shell.execute_reply.started": "2021-06-25T07:29:43.212720Z"
    },
    "jupyter": {
     "source_hidden": true
    },
    "papermill": {
     "duration": 0.150731,
     "end_time": "2021-06-25T07:56:28.006835",
     "exception": false,
     "start_time": "2021-06-25T07:56:27.856104",
     "status": "completed"
    },
    "tags": []
   },
   "outputs": [],
   "source": [
    "def most_wickets(Country, Starting_Year=2004):\n",
    "   \n",
    "    # Filtering the Country for analysis\n",
    "    dfnew=df[((df['batting_team']==Country)|(df['bowling_team']==Country))&(df['year']>=Starting_Year)]\n",
    "\n",
    "    dfnew_1=dfnew[(dfnew['bowling_team']==Country)]\n",
    "\n",
    "    df_bowler=dfnew_1.groupby(['bowler']).agg({'runs_off_bat':sum, 'wicket_type':'count', 'ball':'count'}).reset_index()\n",
    "\n",
    "    # Finding the strike rate\n",
    "    df_bowler['economy']=round((df_bowler['runs_off_bat']*6/df_bowler['ball']),1)\n",
    "    df_bowler_temp=df_bowler[(df_bowler['wicket_type']>0)&(df_bowler['economy']<df_bowler['economy'].quantile(0.95))]\n",
    "    \n",
    "    # For plotting\n",
    "    fig=px.treemap(df_bowler_temp, path=[px.Constant(f\"{Country}'s Bowler\"),'bowler'],values='wicket_type',\n",
    "               color='economy', color_continuous_scale='RdBu')\n",
    "    fig.update_layout(title=dict(text=f\"Wickets taken by {Country}'s bolwer ({Starting_Year} onwards)\",\n",
    "                                 xanchor='center', yanchor='top', x=0.5))\n",
    "    fig.show()"
   ]
  },
  {
   "cell_type": "code",
   "execution_count": 84,
   "metadata": {
    "execution": {
     "iopub.execute_input": "2021-06-25T07:56:28.068400Z",
     "iopub.status.busy": "2021-06-25T07:56:28.067798Z",
     "iopub.status.idle": "2021-06-25T07:56:28.215393Z",
     "shell.execute_reply": "2021-06-25T07:56:28.214864Z",
     "shell.execute_reply.started": "2021-06-25T07:29:43.301735Z"
    },
    "jupyter": {
     "source_hidden": true
    },
    "papermill": {
     "duration": 0.179371,
     "end_time": "2021-06-25T07:56:28.215560",
     "exception": false,
     "start_time": "2021-06-25T07:56:28.036189",
     "status": "completed"
    },
    "tags": []
   },
   "outputs": [],
   "source": [
    "# most_wickets('Australia')"
   ]
  },
  {
   "cell_type": "code",
   "execution_count": 98,
   "metadata": {
    "papermill": {
     "duration": 0.02966,
     "end_time": "2021-06-25T07:56:28.274922",
     "exception": false,
     "start_time": "2021-06-25T07:56:28.245262",
     "status": "completed"
    },
    "tags": []
   },
   "outputs": [],
   "source": [
    "## Most 100's, 50's, sixes, fours scored"
   ]
  },
  {
   "cell_type": "code",
   "execution_count": 85,
   "metadata": {
    "execution": {
     "iopub.execute_input": "2021-06-25T07:56:28.377915Z",
     "iopub.status.busy": "2021-06-25T07:56:28.377209Z",
     "iopub.status.idle": "2021-06-25T07:56:28.461069Z",
     "shell.execute_reply": "2021-06-25T07:56:28.460483Z",
     "shell.execute_reply.started": "2021-06-25T07:29:43.444681Z"
    },
    "jupyter": {
     "source_hidden": true
    },
    "papermill": {
     "duration": 0.15688,
     "end_time": "2021-06-25T07:56:28.461214",
     "exception": false,
     "start_time": "2021-06-25T07:56:28.304334",
     "status": "completed"
    },
    "tags": []
   },
   "outputs": [],
   "source": [
    "def score_sheet(Country, Starting_Year=2004):\n",
    "    \n",
    "    dfnew=df[((df['batting_team']==Country)|(df['bowling_team']==Country))&(df['year']>=Starting_Year)]\n",
    "    dfnew_1=dfnew[(dfnew['batting_team']==Country)]\n",
    "\n",
    "    dfnew_runs=dfnew_1.groupby(['match_id','striker']).agg({'runs_off_bat':sum}).reset_index()\n",
    "    dfnew_runs['100_count']=dfnew_runs['runs_off_bat']//100\n",
    "    dfnew_runs['50_count']=dfnew_runs['runs_off_bat']//50\n",
    "\n",
    "    dfnew_100=dfnew_runs[(dfnew_runs['100_count']>0)].groupby(['striker']).agg({'100_count':sum}).reset_index().nlargest(5,'100_count')\n",
    "    dfnew_50=dfnew_runs[(dfnew_runs['50_count']>0)].groupby(['striker']).agg({'50_count':sum}).reset_index().nlargest(5,'50_count')\n",
    "\n",
    "\n",
    "    dfnew_sixes=dfnew_1[dfnew_1['runs_off_bat']==6].groupby(['striker']).agg({'runs_off_bat':'count'}).reset_index().nlargest(5,'runs_off_bat')\n",
    "    dfnew_fours=dfnew_1[dfnew_1['runs_off_bat']==4].groupby(['striker']).agg({'runs_off_bat':'count'}).reset_index().nlargest(5,'runs_off_bat')\n",
    "\n",
    "    fig=make_subplots(rows=2, cols=2, subplot_titles=(\"Most number of 100's\",\"Most number of 50's\",\n",
    "                                                      \"Most number of 6's\",\"Most number of 4's\"))\n",
    "\n",
    "    fig.add_trace(go.Bar(x=dfnew_100['striker'], y=dfnew_100['100_count'], name=\"100's\"), row=1, col=1)\n",
    "    fig.add_trace(go.Bar(x=dfnew_50['striker'], y=dfnew_50['50_count'], name=\"50's\"), row=1, col=2)\n",
    "    fig.add_trace(go.Bar(x=dfnew_sixes['striker'], y=dfnew_sixes['runs_off_bat'], name=\"6's\"), row=2, col=1)\n",
    "    fig.add_trace(go.Bar(x=dfnew_fours['striker'], y=dfnew_fours['runs_off_bat'], name=\"4's\"), row=2, col=2)\n",
    "\n",
    "    fig.update_layout(title=dict(text=f\"Score of {Country} ({Starting_Year} onwards)\",\n",
    "                                 xanchor='center', yanchor='top', x=0.5), showlegend=False)\n",
    "    fig.show()"
   ]
  },
  {
   "cell_type": "code",
   "execution_count": 86,
   "metadata": {
    "execution": {
     "iopub.execute_input": "2021-06-25T07:56:28.530017Z",
     "iopub.status.busy": "2021-06-25T07:56:28.529317Z",
     "iopub.status.idle": "2021-06-25T07:56:28.619253Z",
     "shell.execute_reply": "2021-06-25T07:56:28.618572Z",
     "shell.execute_reply.started": "2021-06-25T07:29:43.561836Z"
    },
    "jupyter": {
     "source_hidden": true
    },
    "papermill": {
     "duration": 0.128555,
     "end_time": "2021-06-25T07:56:28.619415",
     "exception": false,
     "start_time": "2021-06-25T07:56:28.490860",
     "status": "completed"
    },
    "tags": []
   },
   "outputs": [],
   "source": [
    "# score_sheet('Australia')"
   ]
  },
  {
   "cell_type": "code",
   "execution_count": 99,
   "metadata": {
    "papermill": {
     "duration": 0.030227,
     "end_time": "2021-06-25T07:56:28.680856",
     "exception": false,
     "start_time": "2021-06-25T07:56:28.650629",
     "status": "completed"
    },
    "tags": []
   },
   "outputs": [],
   "source": [
    "## Number of Matches won and lost"
   ]
  },
  {
   "cell_type": "code",
   "execution_count": 87,
   "metadata": {
    "execution": {
     "iopub.execute_input": "2021-06-25T07:56:28.752240Z",
     "iopub.status.busy": "2021-06-25T07:56:28.751457Z",
     "iopub.status.idle": "2021-06-25T07:56:28.813728Z",
     "shell.execute_reply": "2021-06-25T07:56:28.813149Z",
     "shell.execute_reply.started": "2021-06-25T07:29:43.657937Z"
    },
    "papermill": {
     "duration": 0.102254,
     "end_time": "2021-06-25T07:56:28.813899",
     "exception": false,
     "start_time": "2021-06-25T07:56:28.711645",
     "status": "completed"
    },
    "tags": []
   },
   "outputs": [],
   "source": [
    "def win_loss(Country, Starting_Year=2004):\n",
    "    \n",
    "    dfnew=df[((df['batting_team']==Country)|(df['bowling_team']==Country))&(df['year']>=Starting_Year)]\n",
    "    df_wins=dfnew.groupby(['match_id', 'batting_team','bowling_team']).agg({'total':sum}).reset_index()\n",
    "\n",
    "    dfCountry=df_wins[df_wins['batting_team']==Country]\n",
    "    dfCountry_no=df_wins[df_wins['batting_team']!=Country]\n",
    "\n",
    "    dfteamnew=dfCountry.merge(dfCountry_no, on='match_id')\n",
    "    dfteamnew['win']=dfteamnew['total_x']>dfteamnew['total_y']\n",
    "\n",
    "    fig=px.histogram(dfteamnew, y='bowling_team_x', color='win',barnorm='percent',\n",
    "                category_orders={'win':[True, False]})\n",
    "    fig.update_layout(title=dict(text=f\"Winning percentage of {Country} ({Starting_Year} onwards)\",\n",
    "                                 xanchor='center', yanchor='top', x=0.5),\n",
    "                     xaxis=dict(title='winning percentage'), yaxis=dict(title='opponent countries'))\n",
    "    fig.show()"
   ]
  },
  {
   "cell_type": "code",
   "execution_count": 88,
   "metadata": {
    "execution": {
     "iopub.execute_input": "2021-06-25T07:56:28.893497Z",
     "iopub.status.busy": "2021-06-25T07:56:28.892651Z",
     "iopub.status.idle": "2021-06-25T07:56:28.994712Z",
     "shell.execute_reply": "2021-06-25T07:56:28.993970Z",
     "shell.execute_reply.started": "2021-06-25T07:29:43.725649Z"
    },
    "papermill": {
     "duration": 0.149904,
     "end_time": "2021-06-25T07:56:28.994896",
     "exception": false,
     "start_time": "2021-06-25T07:56:28.844992",
     "status": "completed"
    },
    "tags": []
   },
   "outputs": [],
   "source": [
    "# win_loss('South Africa')"
   ]
  },
  {
   "cell_type": "code",
   "execution_count": 100,
   "metadata": {
    "papermill": {
     "duration": 0.031055,
     "end_time": "2021-06-25T07:56:29.058731",
     "exception": false,
     "start_time": "2021-06-25T07:56:29.027676",
     "status": "completed"
    },
    "tags": []
   },
   "outputs": [],
   "source": [
    "## Fall of wickets"
   ]
  },
  {
   "cell_type": "code",
   "execution_count": 89,
   "metadata": {
    "execution": {
     "iopub.execute_input": "2021-06-25T07:56:29.139313Z",
     "iopub.status.busy": "2021-06-25T07:56:29.138617Z",
     "iopub.status.idle": "2021-06-25T07:56:29.238199Z",
     "shell.execute_reply": "2021-06-25T07:56:29.237475Z",
     "shell.execute_reply.started": "2021-06-25T07:29:43.838194Z"
    },
    "jupyter": {
     "outputs_hidden": true,
     "source_hidden": true
    },
    "papermill": {
     "duration": 0.148137,
     "end_time": "2021-06-25T07:56:29.238366",
     "exception": false,
     "start_time": "2021-06-25T07:56:29.090229",
     "status": "completed"
    },
    "tags": []
   },
   "outputs": [],
   "source": [
    "def wicket_fall(Country, Starting_Year=2004):\n",
    "    \n",
    "    dfnew=df[((df['batting_team']==Country)|(df['bowling_team']==Country))&(df['year']>=Starting_Year)]\n",
    "    dfnew['count']=1\n",
    "    dfnew.loc[dfnew['wicket_type'].isnull(), 'count']=0\n",
    "    dfwicket=dfnew[dfnew['batting_team']==Country]\n",
    "    dfwicket=dfwicket.groupby(['over','wicket_type'])['count'].sum().reset_index()\n",
    "\n",
    "    fig=px.bar(dfwicket, x='over', y='count', color='wicket_type',range_x=[0,51])\n",
    "    fig.update_layout(title=dict(text=f\"{Country}'s fall of wickets and types ({Starting_Year} onwards)\",\n",
    "                                 xanchor='center', yanchor='top', x=0.45),\n",
    "                     xaxis=dict(title='Overs'), yaxis=dict(title='Wickets count'))\n",
    "\n",
    "    fig.show()"
   ]
  },
  {
   "cell_type": "code",
   "execution_count": 90,
   "metadata": {
    "execution": {
     "iopub.execute_input": "2021-06-25T07:56:29.320630Z",
     "iopub.status.busy": "2021-06-25T07:56:29.319893Z",
     "iopub.status.idle": "2021-06-25T07:56:29.417506Z",
     "shell.execute_reply": "2021-06-25T07:56:29.416795Z",
     "shell.execute_reply.started": "2021-06-25T07:29:43.943050Z"
    },
    "jupyter": {
     "source_hidden": true
    },
    "papermill": {
     "duration": 0.146792,
     "end_time": "2021-06-25T07:56:29.417692",
     "exception": false,
     "start_time": "2021-06-25T07:56:29.270900",
     "status": "completed"
    },
    "scrolled": true,
    "tags": []
   },
   "outputs": [],
   "source": [
    "# wicket_fall('Australia')"
   ]
  },
  {
   "cell_type": "code",
   "execution_count": 101,
   "metadata": {
    "papermill": {
     "duration": 0.032905,
     "end_time": "2021-06-25T07:56:29.484598",
     "exception": false,
     "start_time": "2021-06-25T07:56:29.451693",
     "status": "completed"
    },
    "tags": []
   },
   "outputs": [],
   "source": [
    "### Run scored"
   ]
  },
  {
   "cell_type": "code",
   "execution_count": 91,
   "metadata": {
    "execution": {
     "iopub.execute_input": "2021-06-25T07:56:29.594495Z",
     "iopub.status.busy": "2021-06-25T07:56:29.593343Z",
     "iopub.status.idle": "2021-06-25T07:56:29.620190Z",
     "shell.execute_reply": "2021-06-25T07:56:29.619586Z",
     "shell.execute_reply.started": "2021-06-25T07:29:44.054184Z"
    },
    "jupyter": {
     "source_hidden": true
    },
    "papermill": {
     "duration": 0.102548,
     "end_time": "2021-06-25T07:56:29.620349",
     "exception": false,
     "start_time": "2021-06-25T07:56:29.517801",
     "status": "completed"
    },
    "tags": []
   },
   "outputs": [],
   "source": [
    "def run_score(Country, Starting_Year=2004):\n",
    "    \n",
    "    dfnew=df[((df['batting_team']==Country)|(df['bowling_team']==Country))&(df['year']>=Starting_Year)]\n",
    "    dfruns=dfnew[(dfnew['batting_team']==Country)&(dfnew['runs_off_bat']>0)]\n",
    "    dfruns=dfruns.groupby(['over','runs_off_bat'])['ball'].count().reset_index()\n",
    "    dfruns['runs_off_bat']=dfruns['runs_off_bat'].astype(int).astype(object)\n",
    "\n",
    "    fig=px.bar(dfruns, x='over', y='ball', color='runs_off_bat', range_x=[0,51])\n",
    "    fig.update_layout(title=dict(text=f\"{Country}'s run scores ({Starting_Year} onwards)\",\n",
    "                                 xanchor='center', yanchor='top', x=0.45),\n",
    "                     xaxis=dict(title='Overs'), yaxis=dict(title='Runs scored'))\n",
    "    \n",
    "    fig.show()"
   ]
  },
  {
   "cell_type": "code",
   "execution_count": 92,
   "metadata": {
    "execution": {
     "iopub.execute_input": "2021-06-25T07:56:29.707245Z",
     "iopub.status.busy": "2021-06-25T07:56:29.700793Z",
     "iopub.status.idle": "2021-06-25T07:56:29.789380Z",
     "shell.execute_reply": "2021-06-25T07:56:29.788799Z",
     "shell.execute_reply.started": "2021-06-25T07:29:44.116518Z"
    },
    "jupyter": {
     "source_hidden": true
    },
    "papermill": {
     "duration": 0.136546,
     "end_time": "2021-06-25T07:56:29.789539",
     "exception": false,
     "start_time": "2021-06-25T07:56:29.652993",
     "status": "completed"
    },
    "scrolled": true,
    "tags": []
   },
   "outputs": [],
   "source": [
    "# run_score('New Zealand')"
   ]
  },
  {
   "cell_type": "code",
   "execution_count": 93,
   "metadata": {
    "execution": {
     "iopub.execute_input": "2021-06-25T07:56:29.872945Z",
     "iopub.status.busy": "2021-06-25T07:56:29.869989Z",
     "iopub.status.idle": "2021-06-25T07:56:29.940799Z",
     "shell.execute_reply": "2021-06-25T07:56:29.940208Z",
     "shell.execute_reply.started": "2021-06-25T07:29:44.212784Z"
    },
    "jupyter": {
     "source_hidden": true
    },
    "papermill": {
     "duration": 0.118052,
     "end_time": "2021-06-25T07:56:29.940986",
     "exception": false,
     "start_time": "2021-06-25T07:56:29.822934",
     "status": "completed"
    },
    "tags": []
   },
   "outputs": [],
   "source": [
    "def run_pie_plot(Country, Starting_Year=2004):\n",
    "    \n",
    "    dfnew=df[((df['batting_team']==Country)|(df['bowling_team']==Country))&(df['year']>=Starting_Year)]\n",
    "    dfruns=dfnew[(dfnew['batting_team']==Country)&(dfnew['runs_off_bat']>0)]\n",
    "    dfruns_pie=dfruns.groupby(['runs_off_bat'])['ball'].sum().reset_index()\n",
    "    fig=px.pie(dfruns_pie, names='runs_off_bat', values='ball', hole=0.6)\n",
    "    fig.update_layout(title=dict(text=f\"{Country}'s run scores ({Starting_Year} onwards)\",\n",
    "                                 xanchor='center', yanchor='top', x=0.5),\n",
    "                     annotations=[dict(text='Runs scored', x=0.5, y=0.5, font_size=20, showarrow=False)])\n",
    "    fig.show()"
   ]
  },
  {
   "cell_type": "code",
   "execution_count": 94,
   "metadata": {
    "scrolled": true
   },
   "outputs": [],
   "source": [
    "# run_pie_plot('New Zealand')"
   ]
  },
  {
   "cell_type": "code",
   "execution_count": 95,
   "metadata": {
    "scrolled": true
   },
   "outputs": [
    {
     "data": {
      "application/vnd.jupyter.widget-view+json": {
       "model_id": "174b8e5e199d49fea45e13d6d7a7f604",
       "version_major": 2,
       "version_minor": 0
      },
      "text/plain": [
       "interactive(children=(Dropdown(description='Country', options=('India', 'England', 'South Africa', 'Pakistan',…"
      ]
     },
     "metadata": {},
     "output_type": "display_data"
    }
   ],
   "source": [
    "team_list=list(df['batting_team'].unique())\n",
    "years=list(np.sort(df['year'].unique()))\n",
    "\n",
    "def master_function(Country, Starting_Year):\n",
    "    most_runs(Country, Starting_Year)\n",
    "    most_wickets(Country, Starting_Year)\n",
    "    score_sheet(Country, Starting_Year=2004)\n",
    "    win_loss(Country, Starting_Year=2004)\n",
    "    wicket_fall(Country, Starting_Year=2004)\n",
    "    run_score(Country, Starting_Year=2004)\n",
    "    run_pie_plot(Country, Starting_Year=2004)\n",
    "\n",
    "interact(master_function, Country=team_list, Starting_Year=years);"
   ]
  },
  {
   "cell_type": "code",
   "execution_count": 102,
   "metadata": {
    "papermill": {
     "duration": 0.034059,
     "end_time": "2021-06-25T07:56:30.010574",
     "exception": false,
     "start_time": "2021-06-25T07:56:29.976515",
     "status": "completed"
    },
    "tags": []
   },
   "outputs": [],
   "source": [
    "## Opponent Analysis"
   ]
  },
  {
   "cell_type": "code",
   "execution_count": 96,
   "metadata": {
    "execution": {
     "iopub.execute_input": "2021-06-25T07:56:30.154640Z",
     "iopub.status.busy": "2021-06-25T07:56:30.122312Z",
     "iopub.status.idle": "2021-06-25T07:56:30.247777Z",
     "shell.execute_reply": "2021-06-25T07:56:30.248402Z",
     "shell.execute_reply.started": "2021-06-25T07:29:44.296333Z"
    },
    "jupyter": {
     "outputs_hidden": true
    },
    "papermill": {
     "duration": 0.203678,
     "end_time": "2021-06-25T07:56:30.248634",
     "exception": false,
     "start_time": "2021-06-25T07:56:30.044956",
     "status": "completed"
    },
    "tags": []
   },
   "outputs": [],
   "source": [
    "def opponent_team(Country, team2, Starting_Year=2004, venue_name='McLean Park'):\n",
    "\n",
    "    dfnew=df[(df['batting_team']==Country)|(df['bowling_team']==Country)& (df['year']>=Starting_Year)]\n",
    "\n",
    "    condition1=(dfnew['batting_team']==Country)&(dfnew['bowling_team']==team2)\n",
    "    condition2=(dfnew['batting_team']==team2)&(dfnew['bowling_team']==Country)\n",
    "\n",
    "    dfopp=dfnew[condition1|condition2]\n",
    "    \n",
    "#     print('The venues are : ', dfopp['venue'].unique())\n",
    "    \n",
    "#     venue_name=input('Enter the venue location')\n",
    "\n",
    "    dfopp1=dfopp[dfopp['venue']==venue_name]\n",
    "    dfopp1=dfopp1.groupby(['match_id','batting_team','over']).agg({'count':sum, 'runs_off_bat':'sum'}).reset_index()\n",
    "    dfopp1=dfopp1.groupby(['batting_team','over']).agg({'count':'mean', 'runs_off_bat':'mean'}).reset_index()\n",
    "\n",
    "    dfopp1[['count','runs_off_bat']]= dfopp1[['count','runs_off_bat']].apply(np.ceil).astype(int)\n",
    "\n",
    "    overs=dfopp1['over'].unique()\n",
    "\n",
    "    Country_runs_cumu=dfopp1[dfopp1['batting_team']==Country]['runs_off_bat'].cumsum()\n",
    "    team2_runs_cumu=dfopp1[dfopp1['batting_team']==team2]['runs_off_bat'].cumsum()\n",
    "\n",
    "    Country_runs=dfopp1[dfopp1['batting_team']==Country]['runs_off_bat']\n",
    "    team2_runs=dfopp1[dfopp1['batting_team']==team2]['runs_off_bat']\n",
    "\n",
    "    Country_size=dfopp1[dfopp1['batting_team']==Country]['count']*10\n",
    "    team2_size=dfopp1[dfopp1['batting_team']==team2]['count']*10\n",
    "\n",
    "    fig=go.Figure()\n",
    "    fig.add_trace(go.Scatter(x=overs, y=Country_runs_cumu, name=Country, marker_color='blue'))\n",
    "    fig.add_trace(go.Scatter(x=overs, y=team2_runs_cumu, name=team2, marker_color='red'))\n",
    "    fig.add_trace(go.Bar(x=overs, y=Country_runs, showlegend=False, marker_color='blue'))\n",
    "    fig.add_trace(go.Bar(x=overs, y=team2_runs, showlegend=False, marker_color='red'))\n",
    "\n",
    "    fig.add_trace(go.Scatter(x=overs, y=Country_runs_cumu, mode='markers', marker=dict(size=Country_size), \n",
    "                            showlegend=False, marker_color='blue'))\n",
    "    fig.add_trace(go.Scatter(x=overs, y=team2_runs_cumu, mode='markers', marker=dict(size=team2_size),\n",
    "                             showlegend=False, marker_color='red'))\n",
    "\n",
    "    fig.update_layout(title=dict(text=f\"{Country} Vs {team2} run scores at {venue_name}\",\n",
    "                                 xanchor='center', yanchor='top', x=0.45),\n",
    "                     xaxis=dict(title='Overs'), yaxis=dict(title='Runs scored'))"
   ]
  },
  {
   "cell_type": "code",
   "execution_count": null,
   "metadata": {},
   "outputs": [],
   "source": []
  },
  {
   "cell_type": "code",
   "execution_count": null,
   "metadata": {},
   "outputs": [],
   "source": []
  }
 ],
 "metadata": {
  "kernelspec": {
   "display_name": "Python 3",
   "language": "python",
   "name": "python3"
  },
  "language_info": {
   "codemirror_mode": {
    "name": "ipython",
    "version": 3
   },
   "file_extension": ".py",
   "mimetype": "text/x-python",
   "name": "python",
   "nbconvert_exporter": "python",
   "pygments_lexer": "ipython3",
   "version": "3.8.3"
  },
  "papermill": {
   "default_parameters": {},
   "duration": 46.942859,
   "end_time": "2021-06-25T07:56:32.181585",
   "environment_variables": {},
   "exception": null,
   "input_path": "__notebook__.ipynb",
   "output_path": "__notebook__.ipynb",
   "parameters": {},
   "start_time": "2021-06-25T07:55:45.238726",
   "version": "2.3.3"
  }
 },
 "nbformat": 4,
 "nbformat_minor": 5
}
